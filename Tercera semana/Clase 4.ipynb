{
 "cells": [
  {
   "cell_type": "code",
   "execution_count": 1,
   "metadata": {},
   "outputs": [],
   "source": [
    "lista = ['Miguel', 3.14, 'Hola', True, False, [], 100]"
   ]
  },
  {
   "cell_type": "code",
   "execution_count": 2,
   "metadata": {},
   "outputs": [
    {
     "data": {
      "text/plain": [
       "list"
      ]
     },
     "execution_count": 2,
     "metadata": {},
     "output_type": "execute_result"
    }
   ],
   "source": [
    "type(lista)"
   ]
  },
  {
   "cell_type": "code",
   "execution_count": 3,
   "metadata": {},
   "outputs": [
    {
     "data": {
      "text/plain": [
       "7"
      ]
     },
     "execution_count": 3,
     "metadata": {},
     "output_type": "execute_result"
    }
   ],
   "source": [
    "len(lista)"
   ]
  },
  {
   "cell_type": "code",
   "execution_count": 4,
   "metadata": {},
   "outputs": [
    {
     "data": {
      "text/plain": [
       "[]"
      ]
     },
     "execution_count": 4,
     "metadata": {},
     "output_type": "execute_result"
    }
   ],
   "source": [
    "lista[5:-100000]"
   ]
  },
  {
   "cell_type": "code",
   "execution_count": 5,
   "metadata": {},
   "outputs": [
    {
     "data": {
      "text/plain": [
       "['Hola', True]"
      ]
     },
     "execution_count": 5,
     "metadata": {},
     "output_type": "execute_result"
    }
   ],
   "source": [
    "lista[2:4]"
   ]
  },
  {
   "cell_type": "markdown",
   "metadata": {},
   "source": [
    "### CICLOS\n",
    "\n",
    "- FOR\n",
    "- WHILE\n",
    "\n",
    "---\n",
    "FOR"
   ]
  },
  {
   "cell_type": "code",
   "execution_count": 7,
   "metadata": {},
   "outputs": [
    {
     "name": "stdout",
     "output_type": "stream",
     "text": [
      "0\n",
      "1\n",
      "2\n",
      "3\n",
      "4\n",
      "5\n",
      "6\n",
      "7\n",
      "8\n",
      "9\n",
      "10\n"
     ]
    }
   ],
   "source": [
    "contador = 0\n",
    "print(contador)\n",
    "contador = contador + 1\n",
    "print(contador)\n",
    "contador = contador + 1\n",
    "print(contador)\n",
    "contador = contador + 1\n",
    "print(contador)\n",
    "contador = contador + 1\n",
    "print(contador)\n",
    "contador = contador + 1\n",
    "print(contador)\n",
    "contador = contador + 1\n",
    "print(contador)\n",
    "contador = contador + 1\n",
    "print(contador)\n",
    "contador = contador + 1\n",
    "print(contador)\n",
    "contador = contador + 1\n",
    "print(contador)\n",
    "contador = contador + 1\n",
    "print(contador)\n",
    "contador = contador + 1"
   ]
  },
  {
   "cell_type": "code",
   "execution_count": 31,
   "metadata": {},
   "outputs": [
    {
     "data": {
      "text/plain": [
       "[0, 1, 2, 3, 4, '\\n', 6, 7, 8, 9, 10]"
      ]
     },
     "execution_count": 31,
     "metadata": {},
     "output_type": "execute_result"
    }
   ],
   "source": [
    "tmp = list(range(0, 11, 1))\n",
    "tmp[5] = \"\\n\"\n",
    "tmp"
   ]
  },
  {
   "cell_type": "code",
   "execution_count": 27,
   "metadata": {},
   "outputs": [
    {
     "name": "stdout",
     "output_type": "stream",
     "text": [
      "1,2,3,4,5,6,7,8,9,10,"
     ]
    }
   ],
   "source": [
    "# SINTAXIS DE OTROS LENGUAJES\n",
    "# for(int i=0; i<10; i++){\n",
    "#     #pasa algo\n",
    "# }\n",
    "\n",
    "for i in range(1, 11):\n",
    "    print(i, end=\",\")\n",
    "\n",
    "# print(\"HOLA MUNDO\")"
   ]
  },
  {
   "cell_type": "code",
   "execution_count": 32,
   "metadata": {},
   "outputs": [
    {
     "data": {
      "text/plain": [
       "[0, 1, 2, 3, 4, '\\n', 6, 7, 8, 9, 10]"
      ]
     },
     "execution_count": 32,
     "metadata": {},
     "output_type": "execute_result"
    }
   ],
   "source": [
    "tmp"
   ]
  },
  {
   "cell_type": "code",
   "execution_count": 34,
   "metadata": {},
   "outputs": [
    {
     "name": "stdout",
     "output_type": "stream",
     "text": [
      "El contador vale 0 0\n",
      "El contador vale 1 1\n",
      "El contador vale 2 2\n",
      "El contador vale 3 3\n",
      "El contador vale 4 4\n",
      "El contador vale 5 \n",
      "\n",
      "El contador vale 6 6\n",
      "El contador vale 7 7\n",
      "El contador vale 8 8\n",
      "El contador vale 9 9\n",
      "El contador vale 10 10\n"
     ]
    }
   ],
   "source": [
    "contador = 0\n",
    "\n",
    "for miguel in tmp:\n",
    "    print(\"El contador vale\", contador, miguel)\n",
    "    contador = contador + 1"
   ]
  }
 ],
 "metadata": {
  "kernelspec": {
   "display_name": "Python 3",
   "language": "python",
   "name": "python3"
  },
  "language_info": {
   "codemirror_mode": {
    "name": "ipython",
    "version": 3
   },
   "file_extension": ".py",
   "mimetype": "text/x-python",
   "name": "python",
   "nbconvert_exporter": "python",
   "pygments_lexer": "ipython3",
   "version": "3.11.6"
  }
 },
 "nbformat": 4,
 "nbformat_minor": 2
}
